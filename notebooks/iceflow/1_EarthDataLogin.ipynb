{
 "cells": [
  {
   "cell_type": "markdown",
   "metadata": {},
   "source": [
    "<center>\n",
    "<img src='./img/nsidc_logo.png'/>\n",
    "\n",
    "# **IceFlow**\n",
    "### Point Cloud Data Access\n",
    "</center>\n",
    "\n",
    "# Earth Data Login\n",
    "\n",
    "Before you can work with the IceFlow library it is necessary to [log into Earthdata](https://urs.earthdata.nasa.gov/). To do this, enter your NASA Earthdata credentials in the next step after executing the following code cell.\n",
    "\n",
    "**Note**: If you don't have NASA Earthdata credentials you have to register first at the link above. You don't need to be a NASA employee to register with NASA Earthdata!\n"
   ]
  },
  {
   "cell_type": "code",
   "execution_count": null,
   "metadata": {},
   "outputs": [],
   "source": [
    "# Importing IceFlow client library\n",
    "from iceflow.ui import IceFlowUI\n",
    "# Instantiateing the client\n",
    "client = IceFlowUI()\n",
    "# You need to use your NASA Earthdata Credentials and verify that they work.\n",
    "# Please click on set credentials and then see if authentication is successful by executing the next cell.\n",
    "client.display_credentials()"
   ]
  },
  {
   "cell_type": "code",
   "execution_count": null,
   "metadata": {},
   "outputs": [],
   "source": [
    "# This cell will verify if your credentials are valid. \n",
    "# This may take a little while, if it fails for some reason try again.\n",
    "# NOTE: Wednesday mornings are usually downtime for NSIDC services and you might experience difficulties accessing data.\n",
    "authorized = client.authenticate()\n",
    "if authorized is None:\n",
    "    print('Earthdata Login not successful')\n",
    "else:\n",
    "    print('Earthdata Login successful!')"
   ]
  },
  {
   "cell_type": "markdown",
   "metadata": {},
   "source": [
    "**Note:** If the output of the previous cell is \"Earthdata Login successful!\", then you are ready to proceed with any of the three following IceFlow use case notebooks:\n",
    "* [Accessing data with the IceFlow widget](./2_widget.ipynb)\n",
    "* [Accessing data using the IceFlow API](./3_api.ipynb)\n",
    "* [Reading and plotting data](4_dataviz.ipynb)\n"
   ]
  },
  {
   "cell_type": "code",
   "execution_count": null,
   "metadata": {},
   "outputs": [],
   "source": []
  }
 ],
 "metadata": {
  "kernelspec": {
   "display_name": "Python 3",
   "language": "python",
   "name": "python3"
  },
  "language_info": {
   "codemirror_mode": {
    "name": "ipython",
    "version": 3
   },
   "file_extension": ".py",
   "mimetype": "text/x-python",
   "name": "python",
   "nbconvert_exporter": "python",
   "pygments_lexer": "ipython3",
   "version": "3.7.9"
  }
 },
 "nbformat": 4,
 "nbformat_minor": 4
}
